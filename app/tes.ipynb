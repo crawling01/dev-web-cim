{
 "cells": [
  {
   "cell_type": "code",
   "execution_count": 5,
   "id": "4b9ddc70",
   "metadata": {},
   "outputs": [
    {
     "name": "stdout",
     "output_type": "stream",
     "text": [
      "Collecting python_bcrypt==0.3.2\n",
      "  Using cached python-bcrypt-0.3.2.tar.gz (19 kB)\n",
      "  Preparing metadata (setup.py): started\n",
      "  Preparing metadata (setup.py): finished with status 'done'\n",
      "Building wheels for collected packages: python_bcrypt\n",
      "  Building wheel for python_bcrypt (setup.py): started\n",
      "  Building wheel for python_bcrypt (setup.py): finished with status 'error'\n",
      "  Running setup.py clean for python_bcrypt\n",
      "Failed to build python_bcrypt\n",
      "Note: you may need to restart the kernel to use updated packages.\n"
     ]
    },
    {
     "name": "stderr",
     "output_type": "stream",
     "text": [
      "  error: subprocess-exited-with-error\n",
      "  \n",
      "  × python setup.py bdist_wheel did not run successfully.\n",
      "  │ exit code: 1\n",
      "  ╰─> [8 lines of output]\n",
      "      running bdist_wheel\n",
      "      running build\n",
      "      running build_py\n",
      "      creating build\\lib.win-amd64-cpython-312\\bcrypt\n",
      "      copying bcrypt\\__init__.py -> build\\lib.win-amd64-cpython-312\\bcrypt\n",
      "      running build_ext\n",
      "      building 'bcrypt._bcrypt' extension\n",
      "      error: Microsoft Visual C++ 14.0 or greater is required. Get it with \"Microsoft C++ Build Tools\": https://visualstudio.microsoft.com/visual-cpp-build-tools/\n",
      "      [end of output]\n",
      "  \n",
      "  note: This error originates from a subprocess, and is likely not a problem with pip.\n",
      "  ERROR: Failed building wheel for python_bcrypt\n",
      "ERROR: Failed to build installable wheels for some pyproject.toml based projects (python_bcrypt)\n"
     ]
    }
   ],
   "source": [
    "pip install python_bcrypt==0.3.2"
   ]
  },
  {
   "cell_type": "code",
   "execution_count": 6,
   "id": "1cecedc0",
   "metadata": {},
   "outputs": [
    {
     "name": "stdout",
     "output_type": "stream",
     "text": [
      "Requirement already satisfied: pip in /Library/Frameworks/Python.framework/Versions/3.10/lib/python3.10/site-packages (22.3.1)\n",
      "Collecting pip\n",
      "  Downloading pip-25.0.1-py3-none-any.whl (1.8 MB)\n",
      "\u001b[2K     \u001b[90m━━━━━━━━━━━━━━━━━━━━━━━━━━━━━━━━━━━━━━━━\u001b[0m \u001b[32m1.8/1.8 MB\u001b[0m \u001b[31m7.1 MB/s\u001b[0m eta \u001b[36m0:00:00\u001b[0m00:01\u001b[0m00:01\u001b[0m\n",
      "\u001b[?25hInstalling collected packages: pip\n",
      "  Attempting uninstall: pip\n",
      "    Found existing installation: pip 22.3.1\n",
      "    Uninstalling pip-22.3.1:\n",
      "      Successfully uninstalled pip-22.3.1\n",
      "\u001b[33m  WARNING: The scripts pip, pip3 and pip3.10 are installed in '/Library/Frameworks/Python.framework/Versions/3.10/bin' which is not on PATH.\n",
      "  Consider adding this directory to PATH or, if you prefer to suppress this warning, use --no-warn-script-location.\u001b[0m\u001b[33m\n",
      "\u001b[0mSuccessfully installed pip-25.0.1\n"
     ]
    }
   ],
   "source": [
    "!python3 -m pip install --upgrade pip"
   ]
  },
  {
   "cell_type": "code",
   "execution_count": 1,
   "id": "3fee6a22",
   "metadata": {},
   "outputs": [
    {
     "name": "stdout",
     "output_type": "stream",
     "text": [
      "Requirement already satisfied: requests in /opt/anaconda3/lib/python3.12/site-packages (2.32.3)\n",
      "Requirement already satisfied: charset-normalizer<4,>=2 in /opt/anaconda3/lib/python3.12/site-packages (from requests) (3.3.2)\n",
      "Requirement already satisfied: idna<4,>=2.5 in /opt/anaconda3/lib/python3.12/site-packages (from requests) (3.7)\n",
      "Requirement already satisfied: urllib3<3,>=1.21.1 in /opt/anaconda3/lib/python3.12/site-packages (from requests) (2.2.3)\n",
      "Requirement already satisfied: certifi>=2017.4.17 in /opt/anaconda3/lib/python3.12/site-packages (from requests) (2024.8.30)\n",
      "Note: you may need to restart the kernel to use updated packages.\n"
     ]
    }
   ],
   "source": [
    "pip install requests"
   ]
  },
  {
   "cell_type": "code",
   "execution_count": 3,
   "id": "26766ea3",
   "metadata": {},
   "outputs": [
    {
     "name": "stdout",
     "output_type": "stream",
     "text": [
      "{'_data': {'id': {'fromMe': True, 'remote': '6285156748140@c.us', 'id': '3EB07DEF18801895384FFD', 'self': 'out', '_serialized': 'true_6285156748140@c.us_3EB07DEF18801895384FFD_out'}, 'viewed': False, 'body': 'Hi there!', 'type': 'chat', 't': 1745818440, 'from': {'server': 'c.us', 'user': '6285156748140', '_serialized': '6285156748140@c.us'}, 'to': {'server': 'c.us', 'user': '6285156748140', '_serialized': '6285156748140@c.us'}, 'ack': 0, 'isNewMsg': True, 'star': False, 'kicNotified': False, 'isFromTemplate': False, 'pollInvalidated': False, 'isSentCagPollCreation': False, 'latestEditMsgKey': None, 'latestEditSenderTimestampMs': None, 'mentionedJidList': [], 'groupMentions': [], 'isEventCanceled': False, 'eventInvalidated': False, 'isVcardOverMmsDocument': False, 'isForwarded': False, 'hasReaction': False, 'productHeaderImageRejected': False, 'lastPlaybackProgress': 0, 'isDynamicReplyButtonsMsg': False, 'isCarouselCard': False, 'parentMsgId': None, 'callSilenceReason': None, 'isVideoCall': False, 'callDuration': None, 'callParticipants': None, 'isMdHistoryMsg': False, 'stickerSentTs': 0, 'isAvatar': False, 'lastUpdateFromServerTs': 0, 'invokedBotWid': None, 'bizBotType': None, 'botResponseTargetId': None, 'botPluginType': None, 'botPluginReferenceIndex': None, 'botPluginSearchProvider': None, 'botPluginSearchUrl': None, 'botPluginSearchQuery': None, 'botPluginMaybeParent': False, 'botReelPluginThumbnailCdnUrl': None, 'botMessageDisclaimerText': None, 'botMsgBodyType': None, 'requiresDirectConnection': None, 'bizContentPlaceholderType': None, 'hostedBizEncStateMismatch': False, 'senderOrRecipientAccountTypeHosted': False, 'placeholderCreatedWhenAccountIsHosted': False, 'links': []}, 'id': {'fromMe': True, 'remote': '6285156748140@c.us', 'id': '3EB07DEF18801895384FFD', 'self': 'out', '_serialized': 'true_6285156748140@c.us_3EB07DEF18801895384FFD_out'}, 'ack': 0, 'hasMedia': False, 'body': 'Hi there!', 'type': 'chat', 'timestamp': 1745818440, 'from': '6285156748140@c.us', 'to': '6285156748140@c.us', 'deviceType': 'android', 'isForwarded': False, 'forwardingScore': 0, 'isStatus': False, 'isStarred': False, 'fromMe': True, 'hasQuotedMsg': False, 'hasReaction': False, 'vCards': [], 'mentionedIds': [], 'groupMentions': [], 'isGif': False, 'links': []}\n"
     ]
    }
   ],
   "source": [
    "import requests\n",
    "\n",
    "url = \"http://localhost:3000/api/sendText\"\n",
    "headers = {\n",
    "    \"Accept\": \"application/json\",\n",
    "    \"Content-Type\": \"application/json\"\n",
    "}\n",
    "data = {\n",
    "    \"chatId\": \"6285156748140@c.us\",\n",
    "    \"text\": \"Hi there!\",\n",
    "    \"session\": \"default\"\n",
    "}\n",
    "\n",
    "response = requests.post(url, json=data, headers=headers)\n",
    "print(response.json())"
   ]
  },
  {
   "cell_type": "code",
   "execution_count": null,
   "id": "012b1177",
   "metadata": {},
   "outputs": [],
   "source": []
  }
 ],
 "metadata": {
  "kernelspec": {
   "display_name": "base",
   "language": "python",
   "name": "python3"
  },
  "language_info": {
   "codemirror_mode": {
    "name": "ipython",
    "version": 3
   },
   "file_extension": ".py",
   "mimetype": "text/x-python",
   "name": "python",
   "nbconvert_exporter": "python",
   "pygments_lexer": "ipython3",
   "version": "3.12.7"
  }
 },
 "nbformat": 4,
 "nbformat_minor": 5
}
